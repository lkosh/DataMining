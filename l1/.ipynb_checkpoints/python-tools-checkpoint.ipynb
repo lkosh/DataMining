{
 "cells": [
  {
   "cell_type": "markdown",
   "metadata": {},
   "source": [
    "# Инструменты и библиотеки языка python для анализа данных"
   ]
  },
  {
   "cell_type": "markdown",
   "metadata": {},
   "source": [
    "## Python"
   ]
  },
  {
   "cell_type": "markdown",
   "metadata": {},
   "source": [
    "Python -- динамически типизированный интерпретируемый язык общего назначения"
   ]
  },
  {
   "cell_type": "code",
   "execution_count": 1,
   "metadata": {
    "collapsed": false
   },
   "outputs": [
    {
     "name": "stdout",
     "output_type": "stream",
     "text": [
      "The Zen of Python, by Tim Peters\n",
      "\n",
      "Beautiful is better than ugly.\n",
      "Explicit is better than implicit.\n",
      "Simple is better than complex.\n",
      "Complex is better than complicated.\n",
      "Flat is better than nested.\n",
      "Sparse is better than dense.\n",
      "Readability counts.\n",
      "Special cases aren't special enough to break the rules.\n",
      "Although practicality beats purity.\n",
      "Errors should never pass silently.\n",
      "Unless explicitly silenced.\n",
      "In the face of ambiguity, refuse the temptation to guess.\n",
      "There should be one-- and preferably only one --obvious way to do it.\n",
      "Although that way may not be obvious at first unless you're Dutch.\n",
      "Now is better than never.\n",
      "Although never is often better than *right* now.\n",
      "If the implementation is hard to explain, it's a bad idea.\n",
      "If the implementation is easy to explain, it may be a good idea.\n",
      "Namespaces are one honking great idea -- let's do more of those!\n"
     ]
    }
   ],
   "source": [
    "import this"
   ]
  },
  {
   "cell_type": "markdown",
   "metadata": {},
   "source": [
    "Импорт библиотек"
   ]
  },
  {
   "cell_type": "code",
   "execution_count": 5,
   "metadata": {
    "collapsed": false
   },
   "outputs": [],
   "source": [
    "import requests\n",
    "import json"
   ]
  },
  {
   "cell_type": "markdown",
   "metadata": {},
   "source": [
    "Структуры данных: словарь, список\n",
    "Control flow: while, for"
   ]
  },
  {
   "cell_type": "code",
   "execution_count": 6,
   "metadata": {
    "collapsed": false
   },
   "outputs": [],
   "source": [
    "url = \"http://swapi.co/api/planets/?page=1\"\n",
    "\n",
    "planets = []\n",
    "while url:\n",
    "    r = requests.get(url)\n",
    "    data = json.loads(r.text)\n",
    "    for i in data['results']:\n",
    "        result = {}\n",
    "        result['name'] = i['name']\n",
    "        result['diameter'] = int(i['diameter']) if i['diameter'] != 'unknown' else None\n",
    "        result['population'] = int(i['population']) if i['population'] != 'unknown' else None\n",
    "        planets.append(result)\n",
    "        \n",
    "    url = data['next']"
   ]
  },
  {
   "cell_type": "markdown",
   "metadata": {},
   "source": [
    "Работа с элементами списка"
   ]
  },
  {
   "cell_type": "code",
   "execution_count": 8,
   "metadata": {
    "collapsed": false
   },
   "outputs": [
    {
     "name": "stdout",
     "output_type": "stream",
     "text": [
      "Number of planets: 61\n",
      "First planet: {'diameter': 12500, 'name': u'Alderaan', 'population': 2000000000}\n",
      "First two planets: [{'diameter': 12500, 'name': u'Alderaan', 'population': 2000000000}, {'diameter': 10200, 'name': u'Yavin IV', 'population': 1000}]\n"
     ]
    }
   ],
   "source": [
    "print \"Number of planets: %d\" % len(planets)\n",
    "print \"First planet: %s\" % planets[0]\n",
    "print \"First two planets: %s\" % planets[0:2]"
   ]
  },
  {
   "cell_type": "markdown",
   "metadata": {},
   "source": [
    "Создание классов"
   ]
  },
  {
   "cell_type": "code",
   "execution_count": 9,
   "metadata": {
    "collapsed": false
   },
   "outputs": [
    {
     "name": "stdout",
     "output_type": "stream",
     "text": [
      "Area of Alderaan is 490873852.12\n"
     ]
    }
   ],
   "source": [
    "import math\n",
    "\n",
    "class Planet:\n",
    "    \n",
    "    def __init__(self, diameter, name, population):\n",
    "        self.diameter = diameter\n",
    "        self.name = name\n",
    "        self.population = population\n",
    "        \n",
    "    def area(self):\n",
    "        return math.pi * self.diameter**2\n",
    "    \n",
    "planet = Planet(12500 , \"Alderaan\", 2000000000)\n",
    "print \"Area of %s is %.2f\" % (planet.name, planet.area())"
   ]
  },
  {
   "cell_type": "markdown",
   "metadata": {},
   "source": [
    "Функциональные элементы"
   ]
  },
  {
   "cell_type": "code",
   "execution_count": 11,
   "metadata": {
    "collapsed": false
   },
   "outputs": [
    {
     "name": "stdout",
     "output_type": "stream",
     "text": [
      "Number of big planets is 15\n",
      "First two areas: [490873852.12340516, 326851299.6794821]\n"
     ]
    }
   ],
   "source": [
    "big_planets = filter(lambda p: p[\"diameter\"] > 12500, planets)\n",
    "print \"Number of big planets is %d\" % len(big_planets)\n",
    "\n",
    "areas = map(\n",
    "    lambda p: Planet(p[\"diameter\"], p[\"name\"], p[\"population\"]).area(), \n",
    "    filter(lambda p: p[\"diameter\"] is not None, planets)\n",
    ")\n",
    "print \"First two areas: %s\" % areas[0:2]"
   ]
  },
  {
   "cell_type": "markdown",
   "metadata": {},
   "source": [
    "## Pandas"
   ]
  },
  {
   "cell_type": "markdown",
   "metadata": {},
   "source": [
    "Библиотека для обработки данных. Основные структуры: Series и DataFrame"
   ]
  },
  {
   "cell_type": "code",
   "execution_count": 13,
   "metadata": {
    "collapsed": false
   },
   "outputs": [
    {
     "name": "stdout",
     "output_type": "stream",
     "text": [
      "Created data frame with (61, 3) planets\n"
     ]
    },
    {
     "data": {
      "text/html": [
       "<div style=\"max-height:1000px;max-width:1500px;overflow:auto;\">\n",
       "<table border=\"1\" class=\"dataframe\">\n",
       "  <thead>\n",
       "    <tr style=\"text-align: right;\">\n",
       "      <th></th>\n",
       "      <th>name</th>\n",
       "      <th>diameter</th>\n",
       "      <th>population</th>\n",
       "    </tr>\n",
       "  </thead>\n",
       "  <tbody>\n",
       "    <tr>\n",
       "      <th>0</th>\n",
       "      <td>Alderaan</td>\n",
       "      <td>12500</td>\n",
       "      <td>2000000000</td>\n",
       "    </tr>\n",
       "    <tr>\n",
       "      <th>1</th>\n",
       "      <td>Yavin IV</td>\n",
       "      <td>10200</td>\n",
       "      <td>1000</td>\n",
       "    </tr>\n",
       "    <tr>\n",
       "      <th>2</th>\n",
       "      <td>Hoth</td>\n",
       "      <td>7200</td>\n",
       "      <td>NaN</td>\n",
       "    </tr>\n",
       "    <tr>\n",
       "      <th>3</th>\n",
       "      <td>Dagobah</td>\n",
       "      <td>8900</td>\n",
       "      <td>NaN</td>\n",
       "    </tr>\n",
       "    <tr>\n",
       "      <th>4</th>\n",
       "      <td>Bespin</td>\n",
       "      <td>118000</td>\n",
       "      <td>6000000</td>\n",
       "    </tr>\n",
       "  </tbody>\n",
       "</table>\n",
       "</div>"
      ],
      "text/plain": [
       "       name  diameter  population\n",
       "0  Alderaan     12500  2000000000\n",
       "1  Yavin IV     10200        1000\n",
       "2      Hoth      7200         NaN\n",
       "3   Dagobah      8900         NaN\n",
       "4    Bespin    118000     6000000"
      ]
     },
     "execution_count": 13,
     "metadata": {},
     "output_type": "execute_result"
    }
   ],
   "source": [
    "import pandas as pd\n",
    "\n",
    "df = pd.DataFrame(planets, columns=[\"name\", \"diameter\", \"population\"])\n",
    "print \"Created data frame with %s planets\" % (df.shape,)\n",
    "df.head()"
   ]
  },
  {
   "cell_type": "markdown",
   "metadata": {},
   "source": [
    "Фильтрация"
   ]
  },
  {
   "cell_type": "code",
   "execution_count": 14,
   "metadata": {
    "collapsed": false
   },
   "outputs": [
    {
     "name": "stdout",
     "output_type": "stream",
     "text": [
      "(39, 3) planets remains after filter\n"
     ]
    }
   ],
   "source": [
    "filtered_df = df[pd.notnull(df[\"diameter\"]) & pd.notnull(df[\"population\"])]\n",
    "print \"%s planets remains after filter\" % (filtered_df.shape,)"
   ]
  },
  {
   "cell_type": "markdown",
   "metadata": {},
   "source": [
    "Сохранение на диск"
   ]
  },
  {
   "cell_type": "code",
   "execution_count": 15,
   "metadata": {
    "collapsed": false
   },
   "outputs": [],
   "source": [
    "filtered_df.to_csv(\"planets.csv\")"
   ]
  },
  {
   "cell_type": "markdown",
   "metadata": {},
   "source": [
    "Чтение с диска"
   ]
  },
  {
   "cell_type": "code",
   "execution_count": 16,
   "metadata": {
    "collapsed": false
   },
   "outputs": [
    {
     "name": "stdout",
     "output_type": "stream",
     "text": [
      "Read data frame with (39, 3) planets\n"
     ]
    },
    {
     "data": {
      "text/html": [
       "<div style=\"max-height:1000px;max-width:1500px;overflow:auto;\">\n",
       "<table border=\"1\" class=\"dataframe\">\n",
       "  <thead>\n",
       "    <tr style=\"text-align: right;\">\n",
       "      <th></th>\n",
       "      <th>name</th>\n",
       "      <th>diameter</th>\n",
       "      <th>population</th>\n",
       "    </tr>\n",
       "  </thead>\n",
       "  <tbody>\n",
       "    <tr>\n",
       "      <th>0</th>\n",
       "      <td>Alderaan</td>\n",
       "      <td>12500</td>\n",
       "      <td>2000000000</td>\n",
       "    </tr>\n",
       "    <tr>\n",
       "      <th>1</th>\n",
       "      <td>Yavin IV</td>\n",
       "      <td>10200</td>\n",
       "      <td>1000</td>\n",
       "    </tr>\n",
       "    <tr>\n",
       "      <th>4</th>\n",
       "      <td>Bespin</td>\n",
       "      <td>118000</td>\n",
       "      <td>6000000</td>\n",
       "    </tr>\n",
       "    <tr>\n",
       "      <th>5</th>\n",
       "      <td>Endor</td>\n",
       "      <td>4900</td>\n",
       "      <td>30000000</td>\n",
       "    </tr>\n",
       "    <tr>\n",
       "      <th>6</th>\n",
       "      <td>Naboo</td>\n",
       "      <td>12120</td>\n",
       "      <td>4500000000</td>\n",
       "    </tr>\n",
       "  </tbody>\n",
       "</table>\n",
       "</div>"
      ],
      "text/plain": [
       "       name  diameter  population\n",
       "0  Alderaan     12500  2000000000\n",
       "1  Yavin IV     10200        1000\n",
       "4    Bespin    118000     6000000\n",
       "5     Endor      4900    30000000\n",
       "6     Naboo     12120  4500000000"
      ]
     },
     "execution_count": 16,
     "metadata": {},
     "output_type": "execute_result"
    }
   ],
   "source": [
    "read_df = pd.read_csv(\"planets.csv\", index_col=0)\n",
    "print \"Read data frame with %s planets\" % (read_df.shape,)\n",
    "read_df.head()"
   ]
  },
  {
   "cell_type": "markdown",
   "metadata": {},
   "source": [
    "## Numpy"
   ]
  },
  {
   "cell_type": "markdown",
   "metadata": {},
   "source": [
    "Библиотека для работы с многомерными массивами."
   ]
  },
  {
   "cell_type": "code",
   "execution_count": 18,
   "metadata": {
    "collapsed": false
   },
   "outputs": [
    {
     "data": {
      "text/plain": [
       "array([[  1.25000000e+04,   2.00000000e+09],\n",
       "       [  1.02000000e+04,   1.00000000e+03],\n",
       "       [  1.18000000e+05,   6.00000000e+06],\n",
       "       [  4.90000000e+03,   3.00000000e+07],\n",
       "       [  1.21200000e+04,   4.50000000e+09],\n",
       "       [  1.22400000e+04,   1.00000000e+12],\n",
       "       [  1.97200000e+04,   1.00000000e+09],\n",
       "       [  1.13700000e+04,   1.00000000e+11],\n",
       "       [  1.29000000e+04,   9.50000000e+07],\n",
       "       [  4.20000000e+03,   2.00000000e+04],\n",
       "       [  1.27650000e+04,   4.50000000e+07],\n",
       "       [  0.00000000e+00,   1.00000000e+06],\n",
       "       [  1.00880000e+04,   1.90000000e+07],\n",
       "       [  9.10000000e+03,   8.50000000e+06],\n",
       "       [  0.00000000e+00,   1.00000000e+07],\n",
       "       [  1.49200000e+04,   1.40000000e+09],\n",
       "       [  1.34900000e+04,   2.20000000e+10],\n",
       "       [  1.10000000e+04,   3.00000000e+09],\n",
       "       [  7.54900000e+03,   1.30000000e+09],\n",
       "       [  1.21500000e+04,   7.00000000e+09],\n",
       "       [  9.83000000e+03,   1.00000000e+03],\n",
       "       [  6.40000000e+03,   6.20000000e+07],\n",
       "       [  1.40500000e+04,   4.00000000e+09],\n",
       "       [  0.00000000e+00,   4.20000000e+07],\n",
       "       [  0.00000000e+00,   3.00000000e+08],\n",
       "       [  1.10300000e+04,   2.70000000e+10],\n",
       "       [  1.35000000e+04,   1.20000000e+09],\n",
       "       [  1.27800000e+04,   1.85000000e+10],\n",
       "       [  7.90000000e+03,   1.10000000e+07],\n",
       "       [  1.88800000e+04,   2.00000000e+09],\n",
       "       [  1.04800000e+04,   5.20000000e+03],\n",
       "       [  1.06000000e+04,   1.50000000e+09],\n",
       "       [  1.49000000e+04,   4.21000000e+08],\n",
       "       [  1.21900000e+04,   0.00000000e+00],\n",
       "       [  1.01200000e+04,   7.05300000e+05],\n",
       "       [  1.56000000e+04,   5.00000000e+08],\n",
       "       [  1.38000000e+04,   5.00000000e+09],\n",
       "       [  1.38500000e+04,   4.00000000e+09],\n",
       "       [  1.04650000e+04,   2.00000000e+05]])"
      ]
     },
     "execution_count": 18,
     "metadata": {},
     "output_type": "execute_result"
    }
   ],
   "source": [
    "import numpy as np\n",
    "\n",
    "x = read_df[['diameter', 'population']].values\n",
    "x"
   ]
  },
  {
   "cell_type": "code",
   "execution_count": 20,
   "metadata": {
    "collapsed": false
   },
   "outputs": [
    {
     "data": {
      "text/plain": [
       "array([[  1.25000000e+01,   2.00000000e+06],\n",
       "       [  1.02000000e+01,   1.00000000e+00],\n",
       "       [  1.18000000e+02,   6.00000000e+03],\n",
       "       [  4.90000000e+00,   3.00000000e+04],\n",
       "       [  1.21200000e+01,   4.50000000e+06],\n",
       "       [  1.22400000e+01,   1.00000000e+09],\n",
       "       [  1.97200000e+01,   1.00000000e+06],\n",
       "       [  1.13700000e+01,   1.00000000e+08],\n",
       "       [  1.29000000e+01,   9.50000000e+04],\n",
       "       [  4.20000000e+00,   2.00000000e+01],\n",
       "       [  1.27650000e+01,   4.50000000e+04],\n",
       "       [  0.00000000e+00,   1.00000000e+03],\n",
       "       [  1.00880000e+01,   1.90000000e+04],\n",
       "       [  9.10000000e+00,   8.50000000e+03],\n",
       "       [  0.00000000e+00,   1.00000000e+04],\n",
       "       [  1.49200000e+01,   1.40000000e+06],\n",
       "       [  1.34900000e+01,   2.20000000e+07],\n",
       "       [  1.10000000e+01,   3.00000000e+06],\n",
       "       [  7.54900000e+00,   1.30000000e+06],\n",
       "       [  1.21500000e+01,   7.00000000e+06],\n",
       "       [  9.83000000e+00,   1.00000000e+00],\n",
       "       [  6.40000000e+00,   6.20000000e+04],\n",
       "       [  1.40500000e+01,   4.00000000e+06],\n",
       "       [  0.00000000e+00,   4.20000000e+04],\n",
       "       [  0.00000000e+00,   3.00000000e+05],\n",
       "       [  1.10300000e+01,   2.70000000e+07],\n",
       "       [  1.35000000e+01,   1.20000000e+06],\n",
       "       [  1.27800000e+01,   1.85000000e+07],\n",
       "       [  7.90000000e+00,   1.10000000e+04],\n",
       "       [  1.88800000e+01,   2.00000000e+06],\n",
       "       [  1.04800000e+01,   5.20000000e+00],\n",
       "       [  1.06000000e+01,   1.50000000e+06],\n",
       "       [  1.49000000e+01,   4.21000000e+05],\n",
       "       [  1.21900000e+01,   0.00000000e+00],\n",
       "       [  1.01200000e+01,   7.05300000e+02],\n",
       "       [  1.56000000e+01,   5.00000000e+05],\n",
       "       [  1.38000000e+01,   5.00000000e+06],\n",
       "       [  1.38500000e+01,   4.00000000e+06],\n",
       "       [  1.04650000e+01,   2.00000000e+02]])"
      ]
     },
     "execution_count": 20,
     "metadata": {},
     "output_type": "execute_result"
    }
   ],
   "source": [
    "z = x / 10**3\n",
    "z"
   ]
  },
  {
   "cell_type": "code",
   "execution_count": 21,
   "metadata": {
    "collapsed": false
   },
   "outputs": [
    {
     "data": {
      "text/plain": [
       "array([[  1.52072173e+04,   1.34783406e+10],\n",
       "       [  1.34783406e+10,   1.01002526e+18]])"
      ]
     },
     "execution_count": 21,
     "metadata": {},
     "output_type": "execute_result"
    }
   ],
   "source": [
    "s = np.dot(z[:10].T, z[:10])\n",
    "s"
   ]
  },
  {
   "cell_type": "code",
   "execution_count": 22,
   "metadata": {
    "collapsed": false
   },
   "outputs": [
    {
     "data": {
      "text/plain": [
       "1.5178007941542595e+22"
      ]
     },
     "execution_count": 22,
     "metadata": {},
     "output_type": "execute_result"
    }
   ],
   "source": [
    "np.linalg.det(s)"
   ]
  },
  {
   "cell_type": "markdown",
   "metadata": {},
   "source": [
    "## Matplotlib"
   ]
  },
  {
   "cell_type": "code",
   "execution_count": 23,
   "metadata": {
    "collapsed": false
   },
   "outputs": [
    {
     "name": "stdout",
     "output_type": "stream",
     "text": [
      "Populating the interactive namespace from numpy and matplotlib\n"
     ]
    },
    {
     "data": {
      "image/png": "[encoded data removed]",
      "text/plain": [
       "<matplotlib.figure.Figure at 0x10a1f3710>"
      ]
     },
     "metadata": {},
     "output_type": "display_data"
    }
   ],
   "source": [
    "import pylab as pl\n",
    "%pylab inline\n",
    "\n",
    "pl.figure(figsize=(15, 15))\n",
    "pl.scatter(x[:, 0], x[:, 1])\n",
    "for i in xrange(x.shape[0]):\n",
    "    pl.text(x[i, 0], x[i, 1], read_df[\"name\"].iloc[i], rotation=45, ha=\"left\", va=\"center\")\n",
    "pl.xlabel(\"diameter\")\n",
    "pl.ylabel(\"population\")\n",
    "pl.show()"
   ]
  },
  {
   "cell_type": "code",
   "execution_count": null,
   "metadata": {
    "collapsed": false
   },
   "outputs": [],
   "source": []
  }
 ],
 "metadata": {
  "kernelspec": {
   "display_name": "Python [Root]",
   "language": "python",
   "name": "Python [Root]"
  },
  "language_info": {
   "codemirror_mode": {
    "name": "ipython",
    "version": 2
   },
   "file_extension": ".py",
   "mimetype": "text/x-python",
   "name": "python",
   "nbconvert_exporter": "python",
   "pygments_lexer": "ipython2",
   "version": "2.7.12"
  }
 },
 "nbformat": 4,
 "nbformat_minor": 0
}
