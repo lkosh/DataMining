{
 "cells": [
  {
   "cell_type": "markdown",
   "metadata": {},
   "source": [
    "# Домашнее задание 5. Линейные модели"
   ]
  },
  {
   "cell_type": "code",
   "execution_count": 1,
   "metadata": {
    "collapsed": false,
    "scrolled": true
   },
   "outputs": [
    {
     "name": "stdout",
     "output_type": "stream",
     "text": [
      "Populating the interactive namespace from numpy and matplotlib\n"
     ]
    },
    {
     "name": "stderr",
     "output_type": "stream",
     "text": [
      "/home/lena/anaconda2/lib/python2.7/site-packages/sklearn/cross_validation.py:44: DeprecationWarning: This module was deprecated in version 0.18 in favor of the model_selection module into which all the refactored classes and functions are moved. Also note that the interface of the new CV iterators are different from that of this module. This module will be removed in 0.20.\n",
      "  \"This module will be removed in 0.20.\", DeprecationWarning)\n"
     ]
    }
   ],
   "source": [
    "import random as pr\n",
    "import numpy as np\n",
    "import pandas as pd\n",
    "import matplotlib.pylab as pl\n",
    "import sklearn.cross_validation as cv\n",
    "import sklearn.metrics as sm\n",
    "\n",
    "# Plotting config\n",
    "%pylab inline"
   ]
  },
  {
   "cell_type": "markdown",
   "metadata": {},
   "source": [
    "Зачитываем результат 4 домашки"
   ]
  },
  {
   "cell_type": "code",
   "execution_count": 2,
   "metadata": {
    "collapsed": false,
    "scrolled": false
   },
   "outputs": [],
   "source": [
    "data = np.load(\"out_4.dat.npz\")\n",
    "users = data[\"users\"]\n",
    "X_dataset = data[\"data\"].reshape(1,)[0]"
   ]
  },
  {
   "cell_type": "code",
   "execution_count": null,
   "metadata": {
    "collapsed": true,
    "scrolled": true
   },
   "outputs": [],
   "source": []
  },
  {
   "cell_type": "markdown",
   "metadata": {},
   "source": [
    "Зачитываем категории пользователей"
   ]
  },
  {
   "cell_type": "code",
   "execution_count": 4,
   "metadata": {
    "collapsed": false,
    "scrolled": true
   },
   "outputs": [],
   "source": [
    "TRAINING_SET_URL = \"train.csv\"\n",
    "EXAMPLE_SET_URL = \"test.csv\"\n",
    "df_users_train = pd.read_csv(TRAINING_SET_URL, sep=\",\", header=0)\n",
    "df_users_ex = pd.read_csv(EXAMPLE_SET_URL, sep=\",\", header=0)\n",
    "df_users_ex['cls'] = None\n",
    "df_users = pd.concat([df_users_train, df_users_ex])"
   ]
  },
  {
   "cell_type": "markdown",
   "metadata": {},
   "source": [
    "Модель строим для пользователей из twitter_train, нужно выбрать этих пользователей из матрицы из 4 ДЗ:"
   ]
  },
  {
   "cell_type": "code",
   "execution_count": 5,
   "metadata": {
    "collapsed": false,
    "scrolled": false
   },
   "outputs": [],
   "source": [
    "# TODO check this code\n",
    "train_users = df_users_train[\"uid\"].values\n",
    "ix = np.in1d(users, train_users).reshape(users.shape)\n",
    "X = X_dataset[np.where(ix)]"
   ]
  },
  {
   "cell_type": "markdown",
   "metadata": {},
   "source": [
    "Формируем целевую переменную: Делаем join списка пользователей из ДЗ4 с обучающей выборкой."
   ]
  },
  {
   "cell_type": "code",
   "execution_count": 6,
   "metadata": {
    "collapsed": false,
    "scrolled": true
   },
   "outputs": [
    {
     "name": "stdout",
     "output_type": "stream",
     "text": [
      "Resulting training set: (7199x1001254) feature matrix, 7199 target vector\n"
     ]
    }
   ],
   "source": [
    "Y = df_users_train['cls'].values\n",
    "print \"Resulting training set: (%dx%d) feature matrix, %d target vector\" % (X.shape[0], X.shape[1], Y.shape[0])"
   ]
  },
  {
   "cell_type": "markdown",
   "metadata": {},
   "source": [
    "Чтобы исследовать, как ведут себя признаки, построим распределение количества ненулевых признаков у пользователей, чтобы убедиться, что он удовлетворяет закону Ципфа. Для этого построим гистограмму в логарифмических осях. [Подсказка](http://anokhin.github.io/img/sf1.png)"
   ]
  },
  {
   "cell_type": "code",
   "execution_count": 7,
   "metadata": {
    "collapsed": false,
    "scrolled": true
   },
   "outputs": [
    {
     "name": "stdout",
     "output_type": "stream",
     "text": [
      "(7199, 1001254)\n",
      "728\n"
     ]
    }
   ],
   "source": [
    "def draw_log_hist(x):\n",
    "    print X.shape\n",
    "    #hist = np.zeros((X.shape[1]))\n",
    "    hist = [np.count_nonzero(X.indices == i) for i in range(X.shape[1])]\n",
    "    print hist[4302]\n",
    "   \n",
    "    return hist\n",
    "features_counts = draw_log_hist(X)"
   ]
  },
  {
   "cell_type": "markdown",
   "metadata": {},
   "source": [
    "Проведем отбор признаков. В самом простом случае просто удаляем признаки, имеющие ненулевое значение у менее, чем 100 пользователей."
   ]
  },
  {
   "cell_type": "code",
   "execution_count": 12,
   "metadata": {
    "collapsed": false
   },
   "outputs": [
    {
     "data": {
      "text/plain": [
       "<matplotlib.collections.PathCollection at 0x7f5f938fd690>"
      ]
     },
     "execution_count": 12,
     "metadata": {},
     "output_type": "execute_result"
    },
    {
     "data": {
      "image/png": "[encoded data removed]",
      "text/plain": [
       "<matplotlib.figure.Figure at 0x7f5f95365f10>"
      ]
     },
     "metadata": {},
     "output_type": "display_data"
    }
   ],
   "source": [
    "x = np.arange(X.shape[1])\n",
    "plt.scatter(features_counts,x)"
   ]
  },
  {
   "cell_type": "code",
   "execution_count": null,
   "metadata": {
    "collapsed": true
   },
   "outputs": [],
   "source": []
  },
  {
   "cell_type": "code",
   "execution_count": 8,
   "metadata": {
    "collapsed": false,
    "scrolled": true
   },
   "outputs": [],
   "source": [
    "#print X.shape, features_counts [4302]\n",
    "#print np.array(features_counts) > 100\n",
    "mask = np.array(features_counts) > 100\n"
   ]
  },
  {
   "cell_type": "code",
   "execution_count": 9,
   "metadata": {
    "collapsed": false,
    "scrolled": true
   },
   "outputs": [],
   "source": [
    "#print type(mask)\n",
    "#print sum(mask)\n",
    "#print X[:,4302].data\n",
    "X1 = X.tocsc()[:,mask].toarray()\n",
    "#print features_counts[2026]\n",
    "#X2 = np.array((X1.shape[0], X1.shape[1]))\n"
   ]
  },
  {
   "cell_type": "code",
   "execution_count": 10,
   "metadata": {
    "collapsed": false,
    "scrolled": true
   },
   "outputs": [
    {
     "name": "stdout",
     "output_type": "stream",
     "text": [
      "(7199, 4233)\n"
     ]
    }
   ],
   "source": [
    "print X1.shape"
   ]
  },
  {
   "cell_type": "markdown",
   "metadata": {},
   "source": [
    "Вариант задания генерируется на основании вашего ника в техносфере."
   ]
  },
  {
   "cell_type": "code",
   "execution_count": 13,
   "metadata": {
    "collapsed": false,
    "scrolled": true
   },
   "outputs": [
    {
     "name": "stdout",
     "output_type": "stream",
     "text": [
      "My homework 5 algorithm is: Logistic regression with L1 regularization optimized by stochastic gradient descent\n"
     ]
    }
   ],
   "source": [
    "USER_NAME = \"Kawaii-lenko\"\n",
    "OPTIMIZATION_ALGORITHMS = [\"stochastic gradient descent\", \"Newton method\"]\n",
    "REGULARIZATIONS = [\"L1\", \"L2\"]\n",
    "\n",
    "print \"My homework 5 algorithm is: Logistic regression with %s regularization optimized by %s\" % (\n",
    "    REGULARIZATIONS[hash(USER_NAME) % 2],\n",
    "    OPTIMIZATION_ALGORITHMS[hash(USER_NAME[::-1]) % 2]\n",
    ")"
   ]
  },
  {
   "cell_type": "markdown",
   "metadata": {},
   "source": [
    "Реализуем выбранный алгоритм"
   ]
  },
  {
   "cell_type": "code",
   "execution_count": 14,
   "metadata": {
    "collapsed": false,
    "scrolled": true
   },
   "outputs": [
    {
     "name": "stdout",
     "output_type": "stream",
     "text": [
      "0.5\n"
     ]
    }
   ],
   "source": [
    "def sigmoid(z):\n",
    "    \n",
    "    return 1/(1+np.exp(-z))\n",
    "print sigmoid(0)\n",
    "\n",
    "def compute_cost(X, y, theta, C = 0.1): \n",
    "    y = np.array(y)\n",
    "    s = sigmoid(np.dot(X, theta))\n",
    "    mask = np.where(1-s == 0)\n",
    "    \n",
    "    s[mask] -= 1e-10\n",
    "   # print \"mask\", mask, s[mask]\n",
    "    mask = np.where(s == 0)\n",
    "    s[mask] += 1e-10\n",
    "    J = np.mean(- y * np.log(s) - (1 - y) * np.log(1 - s)) +C * np.sum(np.abs(theta))/y.shape[0] \n",
    "    return J\n",
    "\n",
    "def cost_function_gradient (X, y, theta):\n",
    "    #X  = np.ravel(X)\n",
    "    theta = np.array(theta)\n",
    "    #print X\n",
    "    sc= np.dot(X,theta.T)\n",
    "    #print sc\n",
    "    s = sigmoid(sc)\n",
    "   # print (np.array(s) - np.array(y)).shape\n",
    "    gradient = np.dot(transpose(np.array(s) - np.array(y)), X)\n",
    "    #gradient = np.sum( (sigmoid(np.dot(X, theta)) - y) * X)\n",
    "    return gradient\n"
   ]
  },
  {
   "cell_type": "code",
   "execution_count": 20,
   "metadata": {
    "collapsed": false,
    "scrolled": true
   },
   "outputs": [],
   "source": [
    "max_iter = 300\n",
    "\n",
    "class LogisticRegression():\n",
    "    def __init__(self, **kwargs):\n",
    "        self.dim = kwargs['theta']\n",
    "        self.theta = np.random.normal(size = self.dim)\n",
    "        self.alpha = 0.00006\n",
    "        #print self.theta.shape\n",
    "    def fit(self, X, y=None, C = 0.1):\n",
    "        y = np.array(y)\n",
    "        eps = 0.000001\n",
    "        prev_cost_function_value = compute_cost(X, y, self.theta)\n",
    "       # print prev_cost_function_value\n",
    "        cost_function_values  = list()\n",
    "        for i in xrange(0, max_iter):\n",
    "            for j in range(X.shape[0]):\n",
    "                new_theta = self.theta - self.alpha * cost_function_gradient(X[j], y[j], self.theta) + C * self.alpha * np.sign(self.theta)\n",
    "                #print np.where(self.theta != new_theta)\n",
    "                self.theta = new_theta\n",
    "            if i%10 == 0:\n",
    "                cost_function_value = compute_cost(X, y, self.theta)\n",
    "                #if np.isclose(cost_function_value, prev_cost_function_value, atol = eps):\n",
    "                #    break         \n",
    "                cost_function_values.append(cost_function_value)\n",
    "                prev_cost_function_value = cost_function_value\n",
    "\n",
    "                \n",
    "                #print cost_function_value\n",
    "            #return new_theta, cost_function_values\n",
    "        return self\n",
    "    \n",
    "    def predict_proba(self, X):\n",
    "        '''Predict whether the label\n",
    "        is 0 or 1 using learned logistic\n",
    "        regression parameters '''\n",
    "        thr = 0.5\n",
    "        m, n = X.shape\n",
    "        prob = sigmoid(np.dot(X, self.theta))\n",
    "        label = np.zeros(X.shape[0])\n",
    "        label[prob >= thr] = 1\n",
    "        label[prob < thr] = 0\n",
    "        probability = prob\n",
    "        return label"
   ]
  },
  {
   "cell_type": "markdown",
   "metadata": {},
   "source": [
    "Реализуем метрику качества, используемую в соревновании: площадь под ROC кривой"
   ]
  },
  {
   "cell_type": "code",
   "execution_count": 17,
   "metadata": {
    "collapsed": true,
    "scrolled": true
   },
   "outputs": [],
   "source": [
    "from sklearn.metrics import roc_curve, auc\n",
    "from sklearn.utils import column_or_1d\n",
    "def auroc(y_prob, y_true):\n",
    "    fpr, tpr, thresholds = roc_curve(y_true, y_prob)\n",
    "    \n",
    "    roc_auc = auc(fpr, tpr)\n",
    "   \n",
    "\n",
    "    return roc_auc"
   ]
  },
  {
   "cell_type": "markdown",
   "metadata": {},
   "source": [
    "Разделим выборку с помощью методики кросс-валидации для того, чтобы настроить параметр регуляризации $C$"
   ]
  },
  {
   "cell_type": "code",
   "execution_count": 21,
   "metadata": {
    "collapsed": false,
    "scrolled": false
   },
   "outputs": [
    {
     "name": "stdout",
     "output_type": "stream",
     "text": [
      "(5759, 4233) (5759,)\n",
      "0.544916861957\n",
      "0.01\n"
     ]
    }
   ],
   "source": [
    "from sklearn.model_selection import train_test_split\n",
    "C = [0.0, 0.01, 0.1, 1, 10, 100, 1000, 10000]\n",
    "X_train, X_test, y_train, y_test  = train_test_split(X1, Y, test_size = 0.2)\n",
    "print X_train.shape, y_train.shape\n",
    "\n",
    "def select_reg_parameter(C, X, Y):\n",
    "    max_a = 0\n",
    "    C_max = 0.0\n",
    "    for C_it in C:\n",
    "        logreg = LogisticRegression(theta = X_train.shape[1])\n",
    "        logreg.fit(X_train,y_train,C_it)\n",
    "        y_prob =  logreg.predict_proba(X_test)\n",
    "        a = auroc(y_prob, y_test)\n",
    "        if a > max_a:\n",
    "            max_a = a\n",
    "            C_max = C_it\n",
    "    print max_a\n",
    "            \n",
    "    return C_max\n",
    "\n",
    "index = select_reg_parameter(C, X1, Y)\n",
    "print index\n"
   ]
  },
  {
   "cell_type": "markdown",
   "metadata": {},
   "source": [
    "Выбираем наилучшее значение $C$, и классифицируем неизвестных пользователей и строим ROC-кривую"
   ]
  },
  {
   "cell_type": "code",
   "execution_count": null,
   "metadata": {
    "collapsed": false,
    "scrolled": true
   },
   "outputs": [],
   "source": [
    "print auc(X_pred, y_test)"
   ]
  },
  {
   "cell_type": "code",
   "execution_count": 23,
   "metadata": {
    "collapsed": false,
    "scrolled": true
   },
   "outputs": [
    {
     "name": "stdout",
     "output_type": "stream",
     "text": [
      "(5039, 4233) (5039,)\n",
      "Area under the ROC curve : 0.534856\n"
     ]
    },
    {
     "data": {
      "image/png": "[encoded data removed]",
      "text/plain": [
       "<matplotlib.figure.Figure at 0x7f5f93847250>"
      ]
     },
     "metadata": {},
     "output_type": "display_data"
    }
   ],
   "source": [
    "from sklearn.metrics import roc_curve, auc\n",
    "import matplotlib.pyplot as plt\n",
    "import random\n",
    "from sklearn.model_selection import train_test_split\n",
    "\n",
    "def classify(X, Y, test_size, C):\n",
    "    X_train, X_test, y_train, y_test  = train_test_split(X, Y, test_size = test_size)\n",
    "    print X_train.shape, y_train.shape\n",
    "    logreg = LogisticRegression(theta = X_train.shape[1])\n",
    "    logreg.fit(X_train, y_train, C= 0.01)\n",
    "    X_pred = logreg.predict_proba(X_test)\n",
    "    fpr, tpr, thresholds = roc_curve(y_test, X_pred)\n",
    "    roc_auc = auc(fpr, tpr)\n",
    "    train_predicted_label = logreg.predict_proba( X_train)\n",
    "   # print 'Train Accuracy: %f' % (accuracy(y_train, train_predicted_label))\n",
    "    #test_predicted_label  = logreg1.predict_proba( X_test)\n",
    "   # print 'Test Accuracy: %f' % (accuracy(y_test, X_pred))\n",
    "    #tpr = X == Y\n",
    "    #tpr = [1] * 2400\n",
    "    #fpr = [0.01] * 2400\n",
    "    #roc_auc = 0.51\n",
    "    \n",
    "    return tpr, fpr, roc_auc\n",
    "tpr, fpr, roc_auc = classify(X1, Y, 0.3, 0.01)\n",
    "#tpr, fpr, roc_auc = classify(X1, Y, 0.3, C[index])\n",
    "\n",
    "print \"Area under the ROC curve : %f\" % roc_auc\n",
    "\n",
    "def plot_roc_curve(tpr, fpr, roc_auc):\n",
    "    plt.title('Receiver Operating Characteristic')\n",
    "    plt.plot(fpr, tpr, 'b',\n",
    "    label='AUC = %0.2f'% roc_auc)\n",
    "    plt.legend(loc='lower right')\n",
    "    plt.plot([0,1],[0,1],'r--')\n",
    "    plt.xlim([-0.1,1.2])\n",
    "    plt.ylim([-0.1,1.2])\n",
    "    plt.ylabel('True Positive Rate')\n",
    "    plt.xlabel('False Positive Rate')\n",
    "    plt.show()\n",
    "    \"\"\"Plot ROC curve\"\"\"\n",
    "    \n",
    "    # Your code here\n",
    "    \n",
    "    return\n",
    "\n",
    "plot_roc_curve(tpr, fpr, roc_auc)"
   ]
  },
  {
   "cell_type": "markdown",
   "metadata": {},
   "source": [
    "С помощью полученной модели предсказываем категории для неизвестных пользователей из соревнования и загружаем на kaggle в нужном формате. ДЗ принимается только при наличии загруженных данных на kaggle."
   ]
  }
 ],
 "metadata": {
  "kernelspec": {
   "display_name": "Python [Root]",
   "language": "python",
   "name": "Python [Root]"
  },
  "language_info": {
   "codemirror_mode": {
    "name": "ipython",
    "version": 2
   },
   "file_extension": ".py",
   "mimetype": "text/x-python",
   "name": "python",
   "nbconvert_exporter": "python",
   "pygments_lexer": "ipython2",
   "version": "2.7.12"
  }
 },
 "nbformat": 4,
 "nbformat_minor": 0
}
